{
 "cells": [
  {
   "cell_type": "code",
   "execution_count": null,
   "id": "ee3495ab-1ae3-4362-82ba-ae5de57d0fba",
   "metadata": {},
   "outputs": [],
   "source": [
    "!pip install pandas matplotlib"
   ]
  },
  {
   "cell_type": "code",
   "execution_count": null,
   "id": "04e450d7-4e2e-4988-9e9f-bae8289c16d3",
   "metadata": {},
   "outputs": [],
   "source": [
    "import json\n",
    "\n",
    "with open(\"result.json\", \"r\", encoding=\"utf-8\") as f:\n",
    "    data = json.load(f)\n",
    "\n",
    "messages = data[\"messages\"]"
   ]
  },
  {
   "cell_type": "code",
   "execution_count": null,
   "id": "aa9f4df9-ae1b-4bdc-ad23-406a894a5330",
   "metadata": {},
   "outputs": [],
   "source": [
    "import pandas as pd\n",
    "\n",
    "df = pd.DataFrame(messages)\n",
    "df.head()\n"
   ]
  },
  {
   "cell_type": "code",
   "execution_count": null,
   "id": "de0deaf0-f6d6-422a-b3ad-ea619a81fff2",
   "metadata": {},
   "outputs": [],
   "source": [
    "df = df[df[\"type\"] == \"message\"]\n",
    "df[\"date\"] = pd.to_datetime(df[\"date\"])\n",
    "df[\"text\"] = df[\"text\"].apply(lambda x: x if isinstance(x, str) else \"\")\n"
   ]
  },
  {
   "cell_type": "code",
   "execution_count": null,
   "id": "7ee15406-0942-49d6-a122-724ab5197843",
   "metadata": {},
   "outputs": [],
   "source": [
    "df['date_only'] = df['date'].dt.date\n",
    "daily = df.groupby('date_only').size()\n",
    "\n",
    "daily.plot(kind='line', figsize=(12, 4))\n"
   ]
  },
  {
   "cell_type": "code",
   "execution_count": null,
   "id": "f51151df-511f-4db9-b1b3-203cf2ba0376",
   "metadata": {},
   "outputs": [],
   "source": [
    "df['from'] = df['from'].replace({'your nickname': 'your name'})# if needed\n",
    "\n",
    "top_authors = df['from'].value_counts().head(10)\n",
    "\n",
    "top_authors.plot(\n",
    "    kind='barh',\n",
    "    figsize=(10, 5),\n",
    ").invert_yaxis()\n"
   ]
  },
  {
   "cell_type": "code",
   "execution_count": null,
   "id": "3b05706e-19b3-4a56-87a8-308ee56f5a02",
   "metadata": {},
   "outputs": [],
   "source": [
    "df[\"hour\"] = df[\"date\"].dt.hour\n",
    "df[\"hour\"].value_counts().sort_index().plot(kind=\"bar\", title=\"by hours\")\n"
   ]
  },
  {
   "cell_type": "code",
   "execution_count": null,
   "id": "4ad679e7-e98c-4a1b-849a-7da524923ee4",
   "metadata": {},
   "outputs": [],
   "source": [
    "media_df = df[df['media_type'].notna()]\n",
    "media = media_df.groupby(['from', 'media_type']).size().unstack(fill_value=0)\n",
    "media.plot(kind='bar', stacked=True, figsize=(10, 6), title='types of media')"
   ]
  },
  {
   "cell_type": "code",
   "execution_count": null,
   "id": "a24e4025-8301-46ad-a16a-76ca69f5bfa6",
   "metadata": {},
   "outputs": [],
   "source": [
    "def extract_clean_text(text):\n",
    "    if isinstance(text, str):\n",
    "        return text\n",
    "    elif isinstance(text, list):\n",
    "        return ' '.join([t for t in text if isinstance(t, str)])\n",
    "    else:\n",
    "        return ''\n",
    "\n",
    "df['clean_text'] = df['text'].apply(extract_clean_text)"
   ]
  },
  {
   "cell_type": "code",
   "execution_count": null,
   "id": "a2e96f5d-79e2-47b8-b52b-40570ac87c1a",
   "metadata": {},
   "outputs": [],
   "source": [
    "import re\n",
    "\n",
    "words = re.findall(r'\\b[а-яa-zё]+\\b', ' '.join(df['clean_text'].tolist()).lower())\n",
    "\n",
    "stopwords = set([\n",
    "    'и','в','не','на','а','я','с','что','это','у','так','то','ты','мы','он','она','они','бы',\n",
    "    'как','за','по','ну','да','его','её','ещё','меня','тебя','для','был','были','будет','есть',\n",
    "    'нет','о','же','все','тут','там','тоже','то','к','ой','ахах','аха','ли','или','где','ну','если',\n",
    "    'но','вот','тогда','уже','такой','такая','очень','при','сам','нам','вас','ваш','моё','ещё',\n",
    "    'блин','ладно','ага','ок','короче','щас','чё','чел','нууу','ммм','типо','себя','них','них','ниче',\n",
    "    'потом','чтоб','мне','тебе','тебя','себе','себя','хз', 'из', 'от', 'че', 'мб'\n",
    "])\n",
    "\n",
    "blacklist = {'false', 'true', 'owner', 'ownership', 'company', 'gmbh', 'mvz', 'entity', 'practice', 'child', 'augenzentrum', 'n'}# do not delete\n",
    "\n",
    "filtered_words = [w for w in words if w not in stopwords and w not in blacklist]"
   ]
  },
  {
   "cell_type": "code",
   "execution_count": null,
   "id": "ca341c84-46eb-49e1-8e73-3899f33ccb53",
   "metadata": {},
   "outputs": [],
   "source": [
    "from collections import Counter\n",
    "top_words = Counter(filtered_words).most_common(30)"
   ]
  },
  {
   "cell_type": "code",
   "execution_count": null,
   "id": "8f21705d-bbbc-4a90-abd5-6eb04ec3f22b",
   "metadata": {},
   "outputs": [],
   "source": [
    "import matplotlib.pyplot as plt\n",
    "\n",
    "w, c = zip(*top_words)\n",
    "\n",
    "plt.figure(figsize=(10, 6))\n",
    "plt.barh(w[::-1], c[::-1], color='coral')\n",
    "plt.tight_layout()\n",
    "plt.show()"
   ]
  },
  {
   "cell_type": "code",
   "execution_count": null,
   "id": "4c724405-0cf3-4d79-af4a-481c86b57eec",
   "metadata": {},
   "outputs": [],
   "source": [
    "authors = []# enter your names\n",
    "\n",
    "for author in authors:\n",
    "    author_texts = df[df['from'] == author]['text'].apply(extract_clean_text)\n",
    "    words = re.findall(r'\\b[а-яa-zё]+\\b', ' '.join(author_texts.tolist()).lower())\n",
    "    \n",
    "    filtered_words = [w for w in words if w not in stopwords and w not in blacklist]\n",
    "    word_counts = Counter(filtered_words).most_common(15)\n",
    "    \n",
    "    if word_counts:\n",
    "        w, c = zip(*word_counts)\n",
    "        plt.figure(figsize=(9, 5))\n",
    "        plt.barh(w[::-1], c[::-1], color='skyblue')\n",
    "        plt.title(f\"top from {author}\", fontsize=14)\n",
    "        plt.tight_layout()\n",
    "        plt.show()\n",
    "    else:\n",
    "        print(f\"not found for {author}\")\n"
   ]
  }
 ],
 "metadata": {
  "kernelspec": {
   "display_name": "Python 3 (ipykernel)",
   "language": "python",
   "name": "python3"
  },
  "language_info": {
   "codemirror_mode": {
    "name": "ipython",
    "version": 3
   },
   "file_extension": ".py",
   "mimetype": "text/x-python",
   "name": "python",
   "nbconvert_exporter": "python",
   "pygments_lexer": "ipython3",
   "version": "3.13.2"
  }
 },
 "nbformat": 4,
 "nbformat_minor": 5
}
